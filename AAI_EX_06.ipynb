{
  "nbformat": 4,
  "nbformat_minor": 0,
  "metadata": {
    "colab": {
      "provenance": [],
      "gpuType": "T4"
    },
    "kernelspec": {
      "name": "python3",
      "display_name": "Python 3"
    },
    "language_info": {
      "name": "python"
    },
    "accelerator": "GPU"
  },
  "cells": [
    {
      "cell_type": "code",
      "source": [
        "!pip install nltk"
      ],
      "metadata": {
        "id": "YNPAqXna_kwv",
        "colab": {
          "base_uri": "https://localhost:8080/"
        },
        "outputId": "5658422d-e8f6-4ba3-e66c-4f15abae909b"
      },
      "execution_count": null,
      "outputs": [
        {
          "output_type": "stream",
          "name": "stdout",
          "text": [
            "Requirement already satisfied: nltk in /usr/local/lib/python3.11/dist-packages (3.9.1)\n",
            "Requirement already satisfied: click in /usr/local/lib/python3.11/dist-packages (from nltk) (8.2.0)\n",
            "Requirement already satisfied: joblib in /usr/local/lib/python3.11/dist-packages (from nltk) (1.5.0)\n",
            "Requirement already satisfied: regex>=2021.8.3 in /usr/local/lib/python3.11/dist-packages (from nltk) (2024.11.6)\n",
            "Requirement already satisfied: tqdm in /usr/local/lib/python3.11/dist-packages (from nltk) (4.67.1)\n"
          ]
        }
      ]
    },
    {
      "cell_type": "code",
      "execution_count": null,
      "metadata": {
        "id": "gnElb6H0_Xj3",
        "colab": {
          "base_uri": "https://localhost:8080/"
        },
        "outputId": "13351202-ce0f-486f-9d94-496644fa6366"
      },
      "outputs": [
        {
          "output_type": "stream",
          "name": "stderr",
          "text": [
            "[nltk_data] Downloading package punkt_tab to /root/nltk_data...\n",
            "[nltk_data]   Package punkt_tab is already up-to-date!\n",
            "[nltk_data] Downloading package wordnet to /root/nltk_data...\n",
            "[nltk_data]   Package wordnet is already up-to-date!\n",
            "[nltk_data] Downloading package averaged_perceptron_tagger_eng to\n",
            "[nltk_data]     /root/nltk_data...\n",
            "[nltk_data]   Package averaged_perceptron_tagger_eng is already up-to-\n",
            "[nltk_data]       date!\n"
          ]
        },
        {
          "output_type": "execute_result",
          "data": {
            "text/plain": [
              "True"
            ]
          },
          "metadata": {},
          "execution_count": 11
        }
      ],
      "source": [
        "import nltk\n",
        "#import wordnet\n",
        "nltk.download( 'punkt_tab' )\n",
        "nltk.download('wordnet')\n",
        "from nltk.tokenize import word_tokenize\n",
        "nltk.download( 'averaged_perceptron_tagger_eng' )"
      ]
    },
    {
      "cell_type": "code",
      "source": [
        "sentence=input ()"
      ],
      "metadata": {
        "id": "iDJQ6OJFMZRn",
        "colab": {
          "base_uri": "https://localhost:8080/"
        },
        "outputId": "05c4d793-8f7f-46a0-9ce1-7794e3566892"
      },
      "execution_count": null,
      "outputs": [
        {
          "name": "stdout",
          "output_type": "stream",
          "text": [
            "Akshayaa is Good student in College and she ranked first in the class\n"
          ]
        }
      ]
    },
    {
      "cell_type": "code",
      "source": [
        "words = word_tokenize(sentence)\n",
        "# Identify the parts of speech for each word\n",
        "pos_tags= nltk.pos_tag(words)"
      ],
      "metadata": {
        "id": "BfEn0NlAizxM"
      },
      "execution_count": null,
      "outputs": []
    },
    {
      "cell_type": "code",
      "source": [
        "# Print the parts of speech\n",
        "for word, tag in pos_tags:\n",
        "    print(word, tag)"
      ],
      "metadata": {
        "colab": {
          "base_uri": "https://localhost:8080/"
        },
        "id": "wRqZaAF6ARrL",
        "outputId": "218231dd-1727-481b-aba0-d41a2c2df64d"
      },
      "execution_count": null,
      "outputs": [
        {
          "output_type": "stream",
          "name": "stdout",
          "text": [
            "Akshayaa NNP\n",
            "is VBZ\n",
            "Good JJ\n",
            "student NN\n",
            "in IN\n",
            "College NNP\n",
            "and CC\n",
            "she PRP\n",
            "ranked VBD\n",
            "first RB\n",
            "in IN\n",
            "the DT\n",
            "class NN\n"
          ]
        }
      ]
    },
    {
      "cell_type": "code",
      "source": [
        "from nltk.corpus import wordnet\n",
        "\n",
        "# Identify synonyms and antonyms for each word\n",
        "synonyms =[]\n",
        "antonyms =[]\n",
        "for word in words:\n",
        "\tfor syn in wordnet.synsets(word) :\n",
        "\t\tfor lemma in syn.lemmas():\n",
        "\t\t\tsynonyms . append (lemma . name( ) )\n",
        "\t\t\tif lemma . antonyms():\n",
        "\t\t\t\tantonyms . append ( lemma. antonyms ( ) [0] . name ( ) )\n",
        "# Print the synonyms and antonyms\n",
        "print ( \"Synonyms : \" ,set (synonyms) )\n",
        "print ( \"Antonyms : \" ,set(antonyms) )"
      ],
      "metadata": {
        "colab": {
          "base_uri": "https://localhost:8080/"
        },
        "id": "HEavtnMUAToR",
        "outputId": "37ef8e0c-8bfe-47a4-e4fb-fbd8c5fa7e73"
      },
      "execution_count": null,
      "outputs": [
        {
          "output_type": "stream",
          "name": "stdout",
          "text": [
            "Synonyms :  {'full', 'expert', 'initiatory', 'kickoff', 'first-class_honours_degree', 'showtime', 'represent', 'family', 'right', 'number_one', 'make_up', 'commencement', 'beginning', 'bookman', 'soundly', 'outrank', 'good', 'practiced', 'comprise', 'ripe', 'place', 'Hoosier_State', 'inward', 'first_of_all', 'for_the_first_time', 'beneficial', 'inaugural', 'salutary', 'course_of_study', 'scholar', 'first_gear', 'dear', 'live', 'be', 'sort', 'in_effect', 'starting_time', 'unspoilt', 'outset', '1st', 'start', 'rank', 'initiative', 'classify', 'rate', 'graded', 'near', 'commodity', 'social_class', 'just', 'dependable', 'first', 'first_off', 'cost', 'stratified', 'socio-economic_class', 'foremost', 'inch', 'stratum', 'IN', 'effective', 'educatee', 'form', 'category', 'grade', 'low', 'thoroughly', 'secure', 'ranked', 'student', 'college', 'constitute', 'indium', 'respectable', 'in', 'offset', 'In', 'adept', 'embody', 'unspoiled', 'follow', 'number_1', 'course', 'personify', 'class', 'atomic_number_49', 'safe', 'get-go', 'Indiana', 'honorable', 'first_base', 'order', 'separate', 'world-class', 'sound', 'low_gear', 'skillful', 'trade_good', 'scholarly_person', 'proficient', 'estimable', 'undecomposed', 'range', 'inwards', 'skilful', 'year', 'in_force', 'exist', 'sort_out', 'serious', 'pupil', 'honest', 'well', 'equal', 'maiden', 'goodness', 'course_of_instruction', 'assort', 'division', 'upright', 'firstly'}\n",
            "Antonyms :  {'differ', 'ill', 'evilness', 'second', 'badness', 'middle', 'last', 'evil', 'bad'}\n"
          ]
        }
      ]
    },
    {
      "cell_type": "code",
      "source": [],
      "metadata": {
        "id": "Kd_97SRFAgaj"
      },
      "execution_count": null,
      "outputs": []
    },
    {
      "cell_type": "code",
      "source": [],
      "metadata": {
        "id": "8bX8Og3WAbBg"
      },
      "execution_count": null,
      "outputs": []
    }
  ]
}